{
 "cells": [
  {
   "cell_type": "markdown",
   "metadata": {},
   "source": [
    "# Goal: Image to 3D model (PIFuHD)\n",
    "\n",
    "**Zhengxiao Wu, 2020213235**\n",
    "\n",
    "References: [PIFuHD: Multi-Level Pixel-Aligned Implicit Function for High-Resolution 3D Human Digitization](https://shunsukesaito.github.io/PIFuHD/)\n"
   ]
  },
  {
   "cell_type": "markdown",
   "metadata": {},
   "source": [
    "## Before running:  \n",
    "\n",
    "```\n",
    "!git clone https://github.com/facebookresearch/pifuhd\n",
    "!git clone https://github.com/Daniil-Osokin/lightweight-human-pose-estimation.pytorch.git\n",
    "\n",
    "%cd /content/lightweight-human-pose-estimation.pytorch/\n",
    "!wget https://download.01.org/opencv/openvino_training_extensions/models/human_pose_estimation/checkpoint_iter_370000.pth\n",
    "\n",
    "%cd /content/pifuhd/\n",
    "!sh ./scripts/download_trained_model.sh\n",
    "```\n",
    "\n",
    "Then install PyTorch."
   ]
  },
  {
   "cell_type": "code",
   "execution_count": 1,
   "metadata": {},
   "outputs": [
    {
     "name": "stdout",
     "output_type": "stream",
     "text": [
      "C:\\Users\\wzx14\\big_dev\\PIFuHD\\lightweight-human-pose-estimation.pytorch\n"
     ]
    }
   ],
   "source": [
    "image_path = '../istockphoto-1307214736-170667a.jpg'\n",
    "\n",
    "%cd C:\\Users\\wzx14\\big_dev\\PIFuHD\\lightweight-human-pose-estimation.pytorch"
   ]
  },
  {
   "cell_type": "code",
   "execution_count": 2,
   "metadata": {},
   "outputs": [],
   "source": [
    "\n",
    "import torch\n",
    "import cv2\n",
    "import numpy as np\n",
    "from models.with_mobilenet import PoseEstimationWithMobileNet\n",
    "from modules.keypoints import extract_keypoints, group_keypoints\n",
    "from modules.load_state import load_state\n",
    "from modules.pose import Pose, track_poses\n",
    "import demo\n",
    "from IPython.display import clear_output\n",
    "\n",
    "def get_rect(net, images, height_size):\n",
    "    net = net.eval()\n",
    "\n",
    "    stride = 8\n",
    "    upsample_ratio = 4\n",
    "    num_keypoints = Pose.num_kpts\n",
    "    previous_poses = []\n",
    "    delay = 33\n",
    "    for image in images:\n",
    "        rect_path = image.replace('.%s' % (image.split('.')[-1]), '_rect.txt')\n",
    "        img = cv2.imread(image, cv2.IMREAD_COLOR)\n",
    "        orig_img = img.copy()\n",
    "        orig_img = img.copy()\n",
    "        heatmaps, pafs, scale, pad = demo.infer_fast(net, img, height_size, stride, upsample_ratio, cpu=False)\n",
    "\n",
    "        total_keypoints_num = 0\n",
    "        all_keypoints_by_type = []\n",
    "        for kpt_idx in range(num_keypoints):  # 19th for bg\n",
    "            total_keypoints_num += extract_keypoints(heatmaps[:, :, kpt_idx], all_keypoints_by_type, total_keypoints_num)\n",
    "\n",
    "        pose_entries, all_keypoints = group_keypoints(all_keypoints_by_type, pafs)\n",
    "        for kpt_id in range(all_keypoints.shape[0]):\n",
    "            all_keypoints[kpt_id, 0] = (all_keypoints[kpt_id, 0] * stride / upsample_ratio - pad[1]) / scale\n",
    "            all_keypoints[kpt_id, 1] = (all_keypoints[kpt_id, 1] * stride / upsample_ratio - pad[0]) / scale\n",
    "        current_poses = []\n",
    "\n",
    "        rects = []\n",
    "        for n in range(len(pose_entries)):\n",
    "            if len(pose_entries[n]) == 0:\n",
    "                continue\n",
    "            pose_keypoints = np.ones((num_keypoints, 2), dtype=np.int32) * -1\n",
    "            valid_keypoints = []\n",
    "            for kpt_id in range(num_keypoints):\n",
    "                if pose_entries[n][kpt_id] != -1.0:  # keypoint was found\n",
    "                    pose_keypoints[kpt_id, 0] = int(all_keypoints[int(pose_entries[n][kpt_id]), 0])\n",
    "                    pose_keypoints[kpt_id, 1] = int(all_keypoints[int(pose_entries[n][kpt_id]), 1])\n",
    "                    valid_keypoints.append([pose_keypoints[kpt_id, 0], pose_keypoints[kpt_id, 1]])\n",
    "            valid_keypoints = np.array(valid_keypoints)\n",
    "            \n",
    "            if pose_entries[n][10] != -1.0 or pose_entries[n][13] != -1.0:\n",
    "              pmin = valid_keypoints.min(0)\n",
    "              pmax = valid_keypoints.max(0)\n",
    "\n",
    "              center = (0.5 * (pmax[:2] + pmin[:2])).astype(np.int)\n",
    "              radius = int(0.65 * max(pmax[0]-pmin[0], pmax[1]-pmin[1]))\n",
    "            elif pose_entries[n][10] == -1.0 and pose_entries[n][13] == -1.0 and pose_entries[n][8] != -1.0 and pose_entries[n][11] != -1.0:\n",
    "              # if leg is missing, use pelvis to get cropping\n",
    "              center = (0.5 * (pose_keypoints[8] + pose_keypoints[11])).astype(np.int)\n",
    "              radius = int(1.45*np.sqrt(((center[None,:] - valid_keypoints)**2).sum(1)).max(0))\n",
    "              center[1] += int(0.05*radius)\n",
    "            else:\n",
    "              center = np.array([img.shape[1]//2,img.shape[0]//2])\n",
    "              radius = max(img.shape[1]//2,img.shape[0]//2)\n",
    "\n",
    "            x1 = center[0] - radius\n",
    "            y1 = center[1] - radius\n",
    "\n",
    "            rects.append([x1, y1, 2*radius, 2*radius])\n",
    "\n",
    "        np.savetxt(rect_path, np.array(rects), fmt='%d')"
   ]
  },
  {
   "cell_type": "code",
   "execution_count": 3,
   "metadata": {},
   "outputs": [
    {
     "name": "stdout",
     "output_type": "stream",
     "text": [
      "C:\\Users\\wzx14\\big_dev\\PIFuHD\\lightweight-human-pose-estimation.pytorch\n"
     ]
    }
   ],
   "source": [
    "%cd C:\\Users\\wzx14\\big_dev\\PIFuHD\\lightweight-human-pose-estimation.pytorch\n",
    "\n",
    "import cv2\n",
    "img = cv2.imread(image_path)\n",
    "image_path = '../sample_images/Img.png'\n",
    "cv2.imwrite(image_path, img)\n",
    "\n",
    "import os\n",
    "image_dir = os.path.dirname(image_path)\n",
    "file_name = os.path.splitext(os.path.basename(image_path))[0]\n",
    "\n",
    "obj_path='../results/pifuhd_final/recon/result_%s_256.obj' % file_name\n",
    "out_img_path='../results/pifuhd_final/recon/result_%s_256.png' % file_name\n",
    "video_path='../results/pifuhd_final/recon/result_%s_256.mp4' % file_name\n",
    "video_display_path='../results/pifuhd_final/result_%s_256_display.mp4' % file_name"
   ]
  },
  {
   "cell_type": "code",
   "execution_count": 4,
   "metadata": {},
   "outputs": [
    {
     "name": "stdout",
     "output_type": "stream",
     "text": [
      "C:\\Users\\wzx14\\big_dev\\PIFuHD\\lightweight-human-pose-estimation.pytorch\n",
      "C:\\Users\\wzx14\\big_dev\\PIFuHD\\pifuhd\n"
     ]
    },
    {
     "name": "stderr",
     "output_type": "stream",
     "text": [
      "C:\\Users\\wzx14\\AppData\\Local\\Temp\\ipykernel_60904\\4097356389.py:58: DeprecationWarning: `np.int` is a deprecated alias for the builtin `int`. To silence this warning, use `int` by itself. Doing this will not modify any behavior and is safe. When replacing `np.int`, you may wish to use e.g. `np.int64` or `np.int32` to specify the precision. If you wish to review your current use, check the release note link for additional information.\n",
      "Deprecated in NumPy 1.20; for more details and guidance: https://numpy.org/devdocs/release/1.20.0-notes.html#deprecations\n",
      "  center = (0.5 * (pose_keypoints[8] + pose_keypoints[11])).astype(np.int)\n"
     ]
    },
    {
     "name": "stdout",
     "output_type": "stream",
     "text": [
      "^C\n"
     ]
    }
   ],
   "source": [
    "%cd C:\\Users\\wzx14\\big_dev\\PIFuHD\\lightweight-human-pose-estimation.pytorch\n",
    "\n",
    "net = PoseEstimationWithMobileNet()\n",
    "checkpoint = torch.load('checkpoint_iter_370000.pth', map_location='cpu')\n",
    "load_state(net, checkpoint)\n",
    "get_rect(net.cuda(), [image_path], 512)\n",
    "\n",
    "%cd C:\\Users\\wzx14\\big_dev\\PIFuHD\\pifuhd\n",
    "!python -m apps.simple_test -r 256 --use_rect -i $image_dir\n",
    "\n",
    "# clear_output()"
   ]
  },
  {
   "cell_type": "code",
   "execution_count": null,
   "metadata": {},
   "outputs": [],
   "source": [
    "# %cd C:\\Users\\wzx14\\big_dev\\PIFuHD\\pifuhd\n",
    "\n",
    "# from lib.colab_util import generate_video_from_obj, set_renderer, video\n",
    "\n",
    "# renderer = set_renderer()\n",
    "\n",
    "# obj_path=r'C:\\Users\\wzx14\\big_dev\\PIFuHD\\pifuhd\\results\\pifuhd_final/recon/result_%s_256.obj' % file_name\n",
    "# generate_video_from_obj(obj_path, out_img_path, video_path, renderer)\n",
    "\n",
    "# !ffmpeg -i $video_path -vcodec libx264 $video_display_path -y -loglevel quiet"
   ]
  }
 ],
 "metadata": {
  "kernelspec": {
   "display_name": "Python 3.10.4 ('dl')",
   "language": "python",
   "name": "python3"
  },
  "language_info": {
   "codemirror_mode": {
    "name": "ipython",
    "version": 3
   },
   "file_extension": ".py",
   "mimetype": "text/x-python",
   "name": "python",
   "nbconvert_exporter": "python",
   "pygments_lexer": "ipython3",
   "version": "3.10.4"
  },
  "orig_nbformat": 4,
  "vscode": {
   "interpreter": {
    "hash": "d6801b3161570ce0d1a9e9a29a09f3944c368970b61d19fcd545453892294169"
   }
  }
 },
 "nbformat": 4,
 "nbformat_minor": 2
}
